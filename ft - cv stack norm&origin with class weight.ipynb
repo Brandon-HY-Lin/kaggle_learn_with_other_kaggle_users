{
 "cells": [
  {
   "cell_type": "code",
   "execution_count": 1,
   "metadata": {
    "_cell_guid": "b1076dfc-b9ad-4769-8c92-a6c4dae69d19",
    "_uuid": "8f2839f25d086af736a60e9eeb907d3b93b6e0e5"
   },
   "outputs": [
    {
     "name": "stdout",
     "output_type": "stream",
     "text": [
      "/kaggle/input/forest-cover-type-standard-normalized/train_noramlized.csv\n",
      "/kaggle/input/forest-cover-type-standard-normalized/test_noramlized.csv\n",
      "/kaggle/input/forest-cover-type-standard-normalized/train_noramlized.hdf\n",
      "/kaggle/input/forest-cover-type-standard-normalized/test_noramlized.hdf\n",
      "/kaggle/input/covertype-target/target.csv\n",
      "/kaggle/input/learn-together/train.csv\n",
      "/kaggle/input/learn-together/sample_submission.csv\n",
      "/kaggle/input/learn-together/test.csv\n",
      "\n",
      "/kaggle/input/feature-tools-layer-2-origin-and-class-weight/features.json\n",
      "/kaggle/input/feature-tools-layer-2-norm-and-class-weight/features.json\n"
     ]
    }
   ],
   "source": [
    "# This Python 3 environment comes with many helpful analytics libraries installed\n",
    "# It is defined by the kaggle/python docker image: https://github.com/kaggle/docker-python\n",
    "# For example, here's several helpful packages to load in \n",
    "\n",
    "import numpy as np # linear algebra\n",
    "import pandas as pd # data processing, CSV file I/O (e.g. pd.read_csv)\n",
    "\n",
    "# Input data files are available in the \"../input/\" directory.\n",
    "# For example, running this (by clicking run or pressing Shift+Enter) will list all files under the input directory\n",
    "\n",
    "import os\n",
    "for dirname, _, filenames in os.walk('/kaggle/input'):\n",
    "    for filename in filenames:\n",
    "        if filename.endswith('csv') or filename.endswith('hdf'):\n",
    "            print(os.path.join(dirname, filename))\n",
    "\n",
    "\n",
    "print()\n",
    "\n",
    "for dirname, _, filenames in os.walk('/kaggle/input'):\n",
    "    for filename in filenames:\n",
    "        if '__' not in filename:\n",
    "            if filename.endswith('json'):\n",
    "                print(os.path.join(dirname, filename))\n",
    "# Any results you write to the current directory are saved as output."
   ]
  },
  {
   "cell_type": "code",
   "execution_count": 2,
   "metadata": {},
   "outputs": [],
   "source": [
    "from collections import OrderedDict\n",
    "from IPython.display import display\n",
    "\n",
    "import featuretools.variable_types as vtypes\n",
    "\n",
    "from sklearn.metrics import accuracy_score\n",
    "from sklearn.model_selection import cross_val_score, KFold\n",
    "\n"
   ]
  },
  {
   "cell_type": "markdown",
   "metadata": {},
   "source": [
    "## Read Dataset/ Test Labels"
   ]
  },
  {
   "cell_type": "code",
   "execution_count": 3,
   "metadata": {
    "_cell_guid": "79c7e3d0-c299-4dcb-8224-4455121ee9b0",
    "_uuid": "d629ff2d2480ee46fbb7e2d37f6b5fab8052498a"
   },
   "outputs": [
    {
     "name": "stdout",
     "output_type": "stream",
     "text": [
      "CPU times: user 2.3 s, sys: 1.28 s, total: 3.58 s\n",
      "Wall time: 3.78 s\n"
     ]
    }
   ],
   "source": [
    "%%time\n",
    "train_df_org = pd.read_csv('/kaggle/input/learn-together/train.csv')\n",
    "test_df_org = pd.read_csv('/kaggle/input/learn-together/test.csv')\n",
    "\n",
    "train_df_normalized = pd.read_hdf('/kaggle/input/forest-cover-type-standard-normalized/train_noramlized.hdf')\n",
    "test_df_normalized = pd.read_hdf('/kaggle/input/forest-cover-type-standard-normalized/test_noramlized.hdf')\n",
    "\n",
    "target_all = pd.read_csv('/kaggle/input/covertype-target/target.csv',\n",
    "                        index_col='Id')\n",
    "\n",
    "y_test = target_all.loc[test_df_org['Id']]"
   ]
  },
  {
   "cell_type": "code",
   "execution_count": 4,
   "metadata": {},
   "outputs": [
    {
     "name": "stdout",
     "output_type": "stream",
     "text": [
      "shape:\n",
      "train_df_org:        (15120, 56)\n",
      "test_df_normalized:  (565892, 55)\n",
      "\n",
      "test_df_org:         (565892, 55)\n",
      "train_df_normalized: (15120, 56)\n"
     ]
    }
   ],
   "source": [
    "print('shape:')\n",
    "print('train_df_org:        {}'.format(train_df_org.shape))\n",
    "print('test_df_normalized:  {}'.format(test_df_normalized.shape))\n",
    "print()\n",
    "print('test_df_org:         {}'.format(test_df_org.shape))\n",
    "print('train_df_normalized: {}'.format(train_df_normalized.shape))\n",
    "\n"
   ]
  },
  {
   "cell_type": "code",
   "execution_count": 5,
   "metadata": {},
   "outputs": [
    {
     "data": {
      "text/html": [
       "<div>\n",
       "<style scoped>\n",
       "    .dataframe tbody tr th:only-of-type {\n",
       "        vertical-align: middle;\n",
       "    }\n",
       "\n",
       "    .dataframe tbody tr th {\n",
       "        vertical-align: top;\n",
       "    }\n",
       "\n",
       "    .dataframe thead th {\n",
       "        text-align: right;\n",
       "    }\n",
       "</style>\n",
       "<table border=\"1\" class=\"dataframe\">\n",
       "  <thead>\n",
       "    <tr style=\"text-align: right;\">\n",
       "      <th></th>\n",
       "      <th>Id</th>\n",
       "      <th>Elevation</th>\n",
       "      <th>Aspect</th>\n",
       "      <th>Slope</th>\n",
       "      <th>Horizontal_Distance_To_Hydrology</th>\n",
       "      <th>Vertical_Distance_To_Hydrology</th>\n",
       "      <th>Horizontal_Distance_To_Roadways</th>\n",
       "      <th>Hillshade_9am</th>\n",
       "      <th>Hillshade_Noon</th>\n",
       "      <th>Hillshade_3pm</th>\n",
       "      <th>...</th>\n",
       "      <th>Soil_Type32</th>\n",
       "      <th>Soil_Type33</th>\n",
       "      <th>Soil_Type34</th>\n",
       "      <th>Soil_Type35</th>\n",
       "      <th>Soil_Type36</th>\n",
       "      <th>Soil_Type37</th>\n",
       "      <th>Soil_Type38</th>\n",
       "      <th>Soil_Type39</th>\n",
       "      <th>Soil_Type40</th>\n",
       "      <th>Cover_Type</th>\n",
       "    </tr>\n",
       "  </thead>\n",
       "  <tbody>\n",
       "    <tr>\n",
       "      <td>0</td>\n",
       "      <td>1</td>\n",
       "      <td>2596</td>\n",
       "      <td>51</td>\n",
       "      <td>3</td>\n",
       "      <td>258</td>\n",
       "      <td>0</td>\n",
       "      <td>510</td>\n",
       "      <td>221</td>\n",
       "      <td>232</td>\n",
       "      <td>148</td>\n",
       "      <td>...</td>\n",
       "      <td>0</td>\n",
       "      <td>0</td>\n",
       "      <td>0</td>\n",
       "      <td>0</td>\n",
       "      <td>0</td>\n",
       "      <td>0</td>\n",
       "      <td>0</td>\n",
       "      <td>0</td>\n",
       "      <td>0</td>\n",
       "      <td>5</td>\n",
       "    </tr>\n",
       "    <tr>\n",
       "      <td>1</td>\n",
       "      <td>2</td>\n",
       "      <td>2590</td>\n",
       "      <td>56</td>\n",
       "      <td>2</td>\n",
       "      <td>212</td>\n",
       "      <td>-6</td>\n",
       "      <td>390</td>\n",
       "      <td>220</td>\n",
       "      <td>235</td>\n",
       "      <td>151</td>\n",
       "      <td>...</td>\n",
       "      <td>0</td>\n",
       "      <td>0</td>\n",
       "      <td>0</td>\n",
       "      <td>0</td>\n",
       "      <td>0</td>\n",
       "      <td>0</td>\n",
       "      <td>0</td>\n",
       "      <td>0</td>\n",
       "      <td>0</td>\n",
       "      <td>5</td>\n",
       "    </tr>\n",
       "  </tbody>\n",
       "</table>\n",
       "<p>2 rows × 56 columns</p>\n",
       "</div>"
      ],
      "text/plain": [
       "   Id  Elevation  Aspect  Slope  Horizontal_Distance_To_Hydrology  \\\n",
       "0   1       2596      51      3                               258   \n",
       "1   2       2590      56      2                               212   \n",
       "\n",
       "   Vertical_Distance_To_Hydrology  Horizontal_Distance_To_Roadways  \\\n",
       "0                               0                              510   \n",
       "1                              -6                              390   \n",
       "\n",
       "   Hillshade_9am  Hillshade_Noon  Hillshade_3pm  ...  Soil_Type32  \\\n",
       "0            221             232            148  ...            0   \n",
       "1            220             235            151  ...            0   \n",
       "\n",
       "   Soil_Type33  Soil_Type34  Soil_Type35  Soil_Type36  Soil_Type37  \\\n",
       "0            0            0            0            0            0   \n",
       "1            0            0            0            0            0   \n",
       "\n",
       "   Soil_Type38  Soil_Type39  Soil_Type40  Cover_Type  \n",
       "0            0            0            0           5  \n",
       "1            0            0            0           5  \n",
       "\n",
       "[2 rows x 56 columns]"
      ]
     },
     "metadata": {},
     "output_type": "display_data"
    },
    {
     "data": {
      "text/html": [
       "<div>\n",
       "<style scoped>\n",
       "    .dataframe tbody tr th:only-of-type {\n",
       "        vertical-align: middle;\n",
       "    }\n",
       "\n",
       "    .dataframe tbody tr th {\n",
       "        vertical-align: top;\n",
       "    }\n",
       "\n",
       "    .dataframe thead th {\n",
       "        text-align: right;\n",
       "    }\n",
       "</style>\n",
       "<table border=\"1\" class=\"dataframe\">\n",
       "  <thead>\n",
       "    <tr style=\"text-align: right;\">\n",
       "      <th></th>\n",
       "      <th>Id</th>\n",
       "      <th>Elevation</th>\n",
       "      <th>Aspect</th>\n",
       "      <th>Slope</th>\n",
       "      <th>Horizontal_Distance_To_Hydrology</th>\n",
       "      <th>Vertical_Distance_To_Hydrology</th>\n",
       "      <th>Horizontal_Distance_To_Roadways</th>\n",
       "      <th>Hillshade_9am</th>\n",
       "      <th>Hillshade_Noon</th>\n",
       "      <th>Hillshade_3pm</th>\n",
       "      <th>...</th>\n",
       "      <th>Soil_Type32</th>\n",
       "      <th>Soil_Type33</th>\n",
       "      <th>Soil_Type34</th>\n",
       "      <th>Soil_Type35</th>\n",
       "      <th>Soil_Type36</th>\n",
       "      <th>Soil_Type37</th>\n",
       "      <th>Soil_Type38</th>\n",
       "      <th>Soil_Type39</th>\n",
       "      <th>Soil_Type40</th>\n",
       "      <th>Cover_Type</th>\n",
       "    </tr>\n",
       "  </thead>\n",
       "  <tbody>\n",
       "    <tr>\n",
       "      <td>0</td>\n",
       "      <td>1</td>\n",
       "      <td>-0.367095</td>\n",
       "      <td>-0.959980</td>\n",
       "      <td>-1.597132</td>\n",
       "      <td>0.146639</td>\n",
       "      <td>-0.834074</td>\n",
       "      <td>-0.908681</td>\n",
       "      <td>0.271454</td>\n",
       "      <td>0.571653</td>\n",
       "      <td>0.281259</td>\n",
       "      <td>...</td>\n",
       "      <td>0</td>\n",
       "      <td>0</td>\n",
       "      <td>0</td>\n",
       "      <td>0</td>\n",
       "      <td>0</td>\n",
       "      <td>0</td>\n",
       "      <td>0</td>\n",
       "      <td>0</td>\n",
       "      <td>0</td>\n",
       "      <td>5</td>\n",
       "    </tr>\n",
       "    <tr>\n",
       "      <td>1</td>\n",
       "      <td>2</td>\n",
       "      <td>-0.381461</td>\n",
       "      <td>-0.914559</td>\n",
       "      <td>-1.715424</td>\n",
       "      <td>-0.072337</td>\n",
       "      <td>-0.932054</td>\n",
       "      <td>-0.999246</td>\n",
       "      <td>0.238732</td>\n",
       "      <td>0.703225</td>\n",
       "      <td>0.346627</td>\n",
       "      <td>...</td>\n",
       "      <td>0</td>\n",
       "      <td>0</td>\n",
       "      <td>0</td>\n",
       "      <td>0</td>\n",
       "      <td>0</td>\n",
       "      <td>0</td>\n",
       "      <td>0</td>\n",
       "      <td>0</td>\n",
       "      <td>0</td>\n",
       "      <td>5</td>\n",
       "    </tr>\n",
       "  </tbody>\n",
       "</table>\n",
       "<p>2 rows × 56 columns</p>\n",
       "</div>"
      ],
      "text/plain": [
       "   Id  Elevation    Aspect     Slope  Horizontal_Distance_To_Hydrology  \\\n",
       "0   1  -0.367095 -0.959980 -1.597132                          0.146639   \n",
       "1   2  -0.381461 -0.914559 -1.715424                         -0.072337   \n",
       "\n",
       "   Vertical_Distance_To_Hydrology  Horizontal_Distance_To_Roadways  \\\n",
       "0                       -0.834074                        -0.908681   \n",
       "1                       -0.932054                        -0.999246   \n",
       "\n",
       "   Hillshade_9am  Hillshade_Noon  Hillshade_3pm  ...  Soil_Type32  \\\n",
       "0       0.271454        0.571653       0.281259  ...            0   \n",
       "1       0.238732        0.703225       0.346627  ...            0   \n",
       "\n",
       "   Soil_Type33  Soil_Type34  Soil_Type35  Soil_Type36  Soil_Type37  \\\n",
       "0            0            0            0            0            0   \n",
       "1            0            0            0            0            0   \n",
       "\n",
       "   Soil_Type38  Soil_Type39  Soil_Type40  Cover_Type  \n",
       "0            0            0            0           5  \n",
       "1            0            0            0           5  \n",
       "\n",
       "[2 rows x 56 columns]"
      ]
     },
     "metadata": {},
     "output_type": "display_data"
    }
   ],
   "source": [
    "display(train_df_org.head(2))\n",
    "display(train_df_normalized.head(2))"
   ]
  },
  {
   "cell_type": "markdown",
   "metadata": {},
   "source": [
    "## Combine Train/Test Dataset"
   ]
  },
  {
   "cell_type": "code",
   "execution_count": 6,
   "metadata": {},
   "outputs": [],
   "source": [
    "test_df_org['Cover_Type'] = np.nan\n",
    "data_df_org = pd.concat([train_df_org, test_df_org]).drop(columns=['Cover_Type'])\n",
    "\n",
    "test_df_normalized['Cover_Type'] = np.nan\n",
    "data_df_normalized = pd.concat([train_df_normalized, test_df_normalized]).drop(columns=['Cover_Type'])"
   ]
  },
  {
   "cell_type": "code",
   "execution_count": 7,
   "metadata": {},
   "outputs": [
    {
     "name": "stdout",
     "output_type": "stream",
     "text": [
      "shape\n",
      "data_df_org:        (581012, 55)\n",
      "data_df_normalized: (581012, 55)\n"
     ]
    }
   ],
   "source": [
    "print('shape')\n",
    "print('data_df_org:        {}'.format(data_df_org.shape))\n",
    "print('data_df_normalized: {}'.format(data_df_normalized.shape))"
   ]
  },
  {
   "cell_type": "markdown",
   "metadata": {},
   "source": [
    "## For Original Dataset\n",
    "Convert One-Hot Encoding to Label Encoding"
   ]
  },
  {
   "cell_type": "code",
   "execution_count": 8,
   "metadata": {},
   "outputs": [],
   "source": [
    "cat_soil = [col for col in data_df_org.columns if 'Soil' in col]\n",
    "data_df_org['Soil_Type'] = data_df_org[cat_soil].values.argmax(axis=1)+1\n",
    "data_df_org = data_df_org.drop(columns=cat_soil)\n",
    "\n",
    "\n",
    "cat_wilderness = [col for col in data_df_org.columns if 'Wilderness' in col]\n",
    "data_df_org['Wilderness_Area'] = data_df_org[cat_wilderness].values.argmax(axis=1)+1\n",
    "data_df_org = data_df_org.drop(columns=cat_wilderness)"
   ]
  },
  {
   "cell_type": "code",
   "execution_count": 9,
   "metadata": {},
   "outputs": [
    {
     "name": "stdout",
     "output_type": "stream",
     "text": [
      "data_df_org: (581012, 13)\n"
     ]
    },
    {
     "data": {
      "text/html": [
       "<div>\n",
       "<style scoped>\n",
       "    .dataframe tbody tr th:only-of-type {\n",
       "        vertical-align: middle;\n",
       "    }\n",
       "\n",
       "    .dataframe tbody tr th {\n",
       "        vertical-align: top;\n",
       "    }\n",
       "\n",
       "    .dataframe thead th {\n",
       "        text-align: right;\n",
       "    }\n",
       "</style>\n",
       "<table border=\"1\" class=\"dataframe\">\n",
       "  <thead>\n",
       "    <tr style=\"text-align: right;\">\n",
       "      <th></th>\n",
       "      <th>Id</th>\n",
       "      <th>Elevation</th>\n",
       "      <th>Aspect</th>\n",
       "      <th>Slope</th>\n",
       "      <th>Horizontal_Distance_To_Hydrology</th>\n",
       "      <th>Vertical_Distance_To_Hydrology</th>\n",
       "      <th>Horizontal_Distance_To_Roadways</th>\n",
       "      <th>Hillshade_9am</th>\n",
       "      <th>Hillshade_Noon</th>\n",
       "      <th>Hillshade_3pm</th>\n",
       "      <th>Horizontal_Distance_To_Fire_Points</th>\n",
       "      <th>Soil_Type</th>\n",
       "      <th>Wilderness_Area</th>\n",
       "    </tr>\n",
       "  </thead>\n",
       "  <tbody>\n",
       "    <tr>\n",
       "      <td>0</td>\n",
       "      <td>1</td>\n",
       "      <td>2596</td>\n",
       "      <td>51</td>\n",
       "      <td>3</td>\n",
       "      <td>258</td>\n",
       "      <td>0</td>\n",
       "      <td>510</td>\n",
       "      <td>221</td>\n",
       "      <td>232</td>\n",
       "      <td>148</td>\n",
       "      <td>6279</td>\n",
       "      <td>29</td>\n",
       "      <td>1</td>\n",
       "    </tr>\n",
       "    <tr>\n",
       "      <td>1</td>\n",
       "      <td>2</td>\n",
       "      <td>2590</td>\n",
       "      <td>56</td>\n",
       "      <td>2</td>\n",
       "      <td>212</td>\n",
       "      <td>-6</td>\n",
       "      <td>390</td>\n",
       "      <td>220</td>\n",
       "      <td>235</td>\n",
       "      <td>151</td>\n",
       "      <td>6225</td>\n",
       "      <td>29</td>\n",
       "      <td>1</td>\n",
       "    </tr>\n",
       "  </tbody>\n",
       "</table>\n",
       "</div>"
      ],
      "text/plain": [
       "   Id  Elevation  Aspect  Slope  Horizontal_Distance_To_Hydrology  \\\n",
       "0   1       2596      51      3                               258   \n",
       "1   2       2590      56      2                               212   \n",
       "\n",
       "   Vertical_Distance_To_Hydrology  Horizontal_Distance_To_Roadways  \\\n",
       "0                               0                              510   \n",
       "1                              -6                              390   \n",
       "\n",
       "   Hillshade_9am  Hillshade_Noon  Hillshade_3pm  \\\n",
       "0            221             232            148   \n",
       "1            220             235            151   \n",
       "\n",
       "   Horizontal_Distance_To_Fire_Points  Soil_Type  Wilderness_Area  \n",
       "0                                6279         29                1  \n",
       "1                                6225         29                1  "
      ]
     },
     "metadata": {},
     "output_type": "display_data"
    }
   ],
   "source": [
    "print('data_df_org: {}'.format(data_df_org.shape))\n",
    "display(data_df_org.head(2))"
   ]
  },
  {
   "cell_type": "markdown",
   "metadata": {},
   "source": [
    "# Delcare Transform Primitives"
   ]
  },
  {
   "cell_type": "code",
   "execution_count": 10,
   "metadata": {},
   "outputs": [],
   "source": [
    "from featuretools.primitives import make_trans_primitive\n",
    "from featuretools.variable_types import Numeric\n",
    "\n",
    "def squared_root(col1, col2):\n",
    "    return (col1**2 + col2**2)**0.5\n",
    "\n",
    "Squared_Root = make_trans_primitive(function=squared_root,\n",
    "                                   input_types=[Numeric, Numeric],\n",
    "                                   return_type=Numeric,\n",
    "                                    commutative=True, # True: combination, False: permutaion\n",
    "                                   )\n",
    "\n",
    "\n",
    "def abs_diff(col1, col2):\n",
    "    return abs(col1 - col2)\n",
    "\n",
    "Abs_Diff = make_trans_primitive(function=abs_diff,\n",
    "                               input_types=[Numeric, Numeric],\n",
    "                               return_type=Numeric,\n",
    "                               commutative=True, # True: combination, False: permutaion\n",
    "                               )\n",
    "\n",
    "\n",
    "def mean_2_cols(col1, col2):\n",
    "    return (col1.add(col2)) / 2\n",
    "\n",
    "\n",
    "Mean_2_Cols = make_trans_primitive(function=mean_2_cols,\n",
    "                                  input_types=[Numeric, Numeric],\n",
    "                                  return_type=Numeric,\n",
    "                                  commutative=True, # True: combination, False: permutaion\n",
    "                                  )\n",
    "\n",
    "\n",
    "def mean_3_cols(col1, col2, col3):\n",
    "    return (col1.add(col2.add(col3))) / 3\n",
    "\n",
    "Mean_3_Cols = make_trans_primitive(function=mean_3_cols,\n",
    "                                  input_types=[Numeric, Numeric, Numeric],\n",
    "                                  return_type=Numeric,\n",
    "                                  commutative=True, # True: combination, False: permutaion\n",
    "                                  )\n",
    "\n",
    "\n",
    "def div_2_cols(col1, col2):\n",
    "    eps = 10e-2\n",
    "    return (col1+eps) / (col2+eps)\n",
    "\n",
    "\n",
    "Div_2_Cols = make_trans_primitive(function=div_2_cols,\n",
    "                                  input_types=[Numeric, Numeric],\n",
    "                                  return_type=Numeric,\n",
    "                                  commutative=True, # True: combination, False: permutaion\n",
    "                                  )"
   ]
  },
  {
   "cell_type": "markdown",
   "metadata": {},
   "source": [
    "## Read Features"
   ]
  },
  {
   "cell_type": "code",
   "execution_count": 11,
   "metadata": {},
   "outputs": [],
   "source": [
    "import featuretools as ft\n",
    "\n",
    "filenames = OrderedDict()\n",
    "filenames['original'] = '/kaggle/input/feature-tools-layer-2-origin-and-class-weight/features.json'\n",
    "filenames['normalized'] = '/kaggle/input/feature-tools-layer-2-norm-and-class-weight/features.json'\n",
    "\n",
    "features_dict = OrderedDict()\n",
    "\n",
    "for key, filename in filenames.items():\n",
    "    features_dict[key] = ft.load_features(filename)"
   ]
  },
  {
   "cell_type": "markdown",
   "metadata": {},
   "source": [
    "## Generate Features of Org/Normalized Datasets"
   ]
  },
  {
   "cell_type": "code",
   "execution_count": 12,
   "metadata": {},
   "outputs": [
    {
     "name": "stdout",
     "output_type": "stream",
     "text": [
      "CPU times: user 25.1 s, sys: 5.99 s, total: 31.1 s\n",
      "Wall time: 27.8 s\n"
     ]
    }
   ],
   "source": [
    "%%time\n",
    "\n",
    "def generate_features(dataframe, transform_features):\n",
    "    variable_type = {col: vtypes.Categorical for col in dataframe.columns if 'Soil' in col or 'Wilderness' in col}\n",
    "\n",
    "    es = ft.EntitySet('Dataset')\n",
    "    es.entity_from_dataframe(entity_id='forest_table',\n",
    "                             index='Id',\n",
    "                             dataframe=dataframe,\n",
    "                             variable_types=variable_type\n",
    "                            )\n",
    "    _, features = ft.dfs(entityset=es,\n",
    "                        target_entity='forest_table')\n",
    "    \n",
    "    features_combined = features + transform_features\n",
    "    feature_matrix = ft.calculate_feature_matrix(features_combined,\n",
    "                                                entityset=es,\n",
    "#                                                 n_jobs=cpu_count(),\n",
    "                                                )\n",
    "\n",
    "    return feature_matrix\n",
    "    \n",
    "\n",
    "\n",
    "feature_matrix_org = generate_features(data_df_org,\n",
    "                                     features_dict['original'])\n",
    "\n",
    "feature_matrix_normalized = generate_features(data_df_normalized,\n",
    "                                     features_dict['normalized'])"
   ]
  },
  {
   "cell_type": "code",
   "execution_count": 13,
   "metadata": {},
   "outputs": [
    {
     "name": "stdout",
     "output_type": "stream",
     "text": [
      "transform features of org:        28\n",
      "data_df_org:                      (581012, 13)\n",
      "feature_matrix_org:               (581012, 40)\n",
      "\n",
      "transform features of normalized: 29\n",
      "data_df_normalized:               (581012, 55)\n",
      "feature_matrix_normalized:        (581012, 83)\n"
     ]
    },
    {
     "data": {
      "text/html": [
       "<div>\n",
       "<style scoped>\n",
       "    .dataframe tbody tr th:only-of-type {\n",
       "        vertical-align: middle;\n",
       "    }\n",
       "\n",
       "    .dataframe tbody tr th {\n",
       "        vertical-align: top;\n",
       "    }\n",
       "\n",
       "    .dataframe thead th {\n",
       "        text-align: right;\n",
       "    }\n",
       "</style>\n",
       "<table border=\"1\" class=\"dataframe\">\n",
       "  <thead>\n",
       "    <tr style=\"text-align: right;\">\n",
       "      <th></th>\n",
       "      <th>Elevation</th>\n",
       "      <th>Aspect</th>\n",
       "      <th>Slope</th>\n",
       "      <th>Horizontal_Distance_To_Hydrology</th>\n",
       "      <th>Vertical_Distance_To_Hydrology</th>\n",
       "      <th>Horizontal_Distance_To_Roadways</th>\n",
       "      <th>Hillshade_9am</th>\n",
       "      <th>Hillshade_Noon</th>\n",
       "      <th>Hillshade_3pm</th>\n",
       "      <th>Horizontal_Distance_To_Fire_Points</th>\n",
       "      <th>...</th>\n",
       "      <th>DIV_2_COLS(Elevation, Hillshade_3pm)</th>\n",
       "      <th>DIV_2_COLS(Elevation, Slope)</th>\n",
       "      <th>DIV_2_COLS(Horizontal_Distance_To_Roadways, Slope)</th>\n",
       "      <th>DIV_2_COLS(Horizontal_Distance_To_Fire_Points, Horizontal_Distance_To_Hydrology)</th>\n",
       "      <th>MEAN_3_COLS(Elevation, Horizontal_Distance_To_Fire_Points, Horizontal_Distance_To_Roadways)</th>\n",
       "      <th>MEAN_3_COLS(Horizontal_Distance_To_Fire_Points, Horizontal_Distance_To_Hydrology, Horizontal_Distance_To_Roadways)</th>\n",
       "      <th>MEAN_3_COLS(Aspect, Horizontal_Distance_To_Fire_Points, Horizontal_Distance_To_Roadways)</th>\n",
       "      <th>SQUARED_ROOT(Elevation, Horizontal_Distance_To_Roadways)</th>\n",
       "      <th>SQUARED_ROOT(Elevation, Horizontal_Distance_To_Fire_Points)</th>\n",
       "      <th>SQUARED_ROOT(Horizontal_Distance_To_Fire_Points, Horizontal_Distance_To_Roadways)</th>\n",
       "    </tr>\n",
       "    <tr>\n",
       "      <th>Id</th>\n",
       "      <th></th>\n",
       "      <th></th>\n",
       "      <th></th>\n",
       "      <th></th>\n",
       "      <th></th>\n",
       "      <th></th>\n",
       "      <th></th>\n",
       "      <th></th>\n",
       "      <th></th>\n",
       "      <th></th>\n",
       "      <th></th>\n",
       "      <th></th>\n",
       "      <th></th>\n",
       "      <th></th>\n",
       "      <th></th>\n",
       "      <th></th>\n",
       "      <th></th>\n",
       "      <th></th>\n",
       "      <th></th>\n",
       "      <th></th>\n",
       "      <th></th>\n",
       "    </tr>\n",
       "  </thead>\n",
       "  <tbody>\n",
       "    <tr>\n",
       "      <td>1</td>\n",
       "      <td>2596</td>\n",
       "      <td>51</td>\n",
       "      <td>3</td>\n",
       "      <td>258</td>\n",
       "      <td>0</td>\n",
       "      <td>510</td>\n",
       "      <td>221</td>\n",
       "      <td>232</td>\n",
       "      <td>148</td>\n",
       "      <td>6279</td>\n",
       "      <td>...</td>\n",
       "      <td>17.529372</td>\n",
       "      <td>837.451613</td>\n",
       "      <td>164.548387</td>\n",
       "      <td>24.328167</td>\n",
       "      <td>3128.333333</td>\n",
       "      <td>2349.000000</td>\n",
       "      <td>2280.000000</td>\n",
       "      <td>2645.622044</td>\n",
       "      <td>6794.487251</td>\n",
       "      <td>6299.677849</td>\n",
       "    </tr>\n",
       "    <tr>\n",
       "      <td>2</td>\n",
       "      <td>2590</td>\n",
       "      <td>56</td>\n",
       "      <td>2</td>\n",
       "      <td>212</td>\n",
       "      <td>-6</td>\n",
       "      <td>390</td>\n",
       "      <td>220</td>\n",
       "      <td>235</td>\n",
       "      <td>151</td>\n",
       "      <td>6225</td>\n",
       "      <td>...</td>\n",
       "      <td>17.141628</td>\n",
       "      <td>1233.380952</td>\n",
       "      <td>185.761905</td>\n",
       "      <td>29.349835</td>\n",
       "      <td>3068.333333</td>\n",
       "      <td>2275.666667</td>\n",
       "      <td>2223.666667</td>\n",
       "      <td>2619.198351</td>\n",
       "      <td>6742.308581</td>\n",
       "      <td>6237.204903</td>\n",
       "    </tr>\n",
       "  </tbody>\n",
       "</table>\n",
       "<p>2 rows × 40 columns</p>\n",
       "</div>"
      ],
      "text/plain": [
       "    Elevation  Aspect  Slope  Horizontal_Distance_To_Hydrology  \\\n",
       "Id                                                               \n",
       "1        2596      51      3                               258   \n",
       "2        2590      56      2                               212   \n",
       "\n",
       "    Vertical_Distance_To_Hydrology  Horizontal_Distance_To_Roadways  \\\n",
       "Id                                                                    \n",
       "1                                0                              510   \n",
       "2                               -6                              390   \n",
       "\n",
       "    Hillshade_9am  Hillshade_Noon  Hillshade_3pm  \\\n",
       "Id                                                 \n",
       "1             221             232            148   \n",
       "2             220             235            151   \n",
       "\n",
       "    Horizontal_Distance_To_Fire_Points  ...  \\\n",
       "Id                                      ...   \n",
       "1                                 6279  ...   \n",
       "2                                 6225  ...   \n",
       "\n",
       "    DIV_2_COLS(Elevation, Hillshade_3pm)  DIV_2_COLS(Elevation, Slope)  \\\n",
       "Id                                                                       \n",
       "1                              17.529372                    837.451613   \n",
       "2                              17.141628                   1233.380952   \n",
       "\n",
       "    DIV_2_COLS(Horizontal_Distance_To_Roadways, Slope)  \\\n",
       "Id                                                       \n",
       "1                                          164.548387    \n",
       "2                                          185.761905    \n",
       "\n",
       "    DIV_2_COLS(Horizontal_Distance_To_Fire_Points, Horizontal_Distance_To_Hydrology)  \\\n",
       "Id                                                                                     \n",
       "1                                           24.328167                                  \n",
       "2                                           29.349835                                  \n",
       "\n",
       "    MEAN_3_COLS(Elevation, Horizontal_Distance_To_Fire_Points, Horizontal_Distance_To_Roadways)  \\\n",
       "Id                                                                                                \n",
       "1                                         3128.333333                                             \n",
       "2                                         3068.333333                                             \n",
       "\n",
       "    MEAN_3_COLS(Horizontal_Distance_To_Fire_Points, Horizontal_Distance_To_Hydrology, Horizontal_Distance_To_Roadways)  \\\n",
       "Id                                                                                                                       \n",
       "1                                         2349.000000                                                                    \n",
       "2                                         2275.666667                                                                    \n",
       "\n",
       "    MEAN_3_COLS(Aspect, Horizontal_Distance_To_Fire_Points, Horizontal_Distance_To_Roadways)  \\\n",
       "Id                                                                                             \n",
       "1                                         2280.000000                                          \n",
       "2                                         2223.666667                                          \n",
       "\n",
       "    SQUARED_ROOT(Elevation, Horizontal_Distance_To_Roadways)  \\\n",
       "Id                                                             \n",
       "1                                         2645.622044          \n",
       "2                                         2619.198351          \n",
       "\n",
       "    SQUARED_ROOT(Elevation, Horizontal_Distance_To_Fire_Points)  \\\n",
       "Id                                                                \n",
       "1                                         6794.487251             \n",
       "2                                         6742.308581             \n",
       "\n",
       "    SQUARED_ROOT(Horizontal_Distance_To_Fire_Points, Horizontal_Distance_To_Roadways)  \n",
       "Id                                                                                     \n",
       "1                                         6299.677849                                  \n",
       "2                                         6237.204903                                  \n",
       "\n",
       "[2 rows x 40 columns]"
      ]
     },
     "metadata": {},
     "output_type": "display_data"
    },
    {
     "data": {
      "text/html": [
       "<div>\n",
       "<style scoped>\n",
       "    .dataframe tbody tr th:only-of-type {\n",
       "        vertical-align: middle;\n",
       "    }\n",
       "\n",
       "    .dataframe tbody tr th {\n",
       "        vertical-align: top;\n",
       "    }\n",
       "\n",
       "    .dataframe thead th {\n",
       "        text-align: right;\n",
       "    }\n",
       "</style>\n",
       "<table border=\"1\" class=\"dataframe\">\n",
       "  <thead>\n",
       "    <tr style=\"text-align: right;\">\n",
       "      <th></th>\n",
       "      <th>Elevation</th>\n",
       "      <th>Aspect</th>\n",
       "      <th>Slope</th>\n",
       "      <th>Horizontal_Distance_To_Hydrology</th>\n",
       "      <th>Vertical_Distance_To_Hydrology</th>\n",
       "      <th>Horizontal_Distance_To_Roadways</th>\n",
       "      <th>Hillshade_9am</th>\n",
       "      <th>Hillshade_Noon</th>\n",
       "      <th>Hillshade_3pm</th>\n",
       "      <th>Horizontal_Distance_To_Fire_Points</th>\n",
       "      <th>...</th>\n",
       "      <th>Elevation - Hillshade_3pm</th>\n",
       "      <th>Hillshade_Noon - Horizontal_Distance_To_Hydrology</th>\n",
       "      <th>Elevation * Vertical_Distance_To_Hydrology</th>\n",
       "      <th>Hillshade_9am * Vertical_Distance_To_Hydrology</th>\n",
       "      <th>Horizontal_Distance_To_Roadways * Vertical_Distance_To_Hydrology</th>\n",
       "      <th>Horizontal_Distance_To_Hydrology * Vertical_Distance_To_Hydrology</th>\n",
       "      <th>Horizontal_Distance_To_Fire_Points * Horizontal_Distance_To_Roadways</th>\n",
       "      <th>Elevation * Horizontal_Distance_To_Hydrology</th>\n",
       "      <th>Hillshade_3pm * Vertical_Distance_To_Hydrology</th>\n",
       "      <th>Horizontal_Distance_To_Hydrology * Horizontal_Distance_To_Roadways</th>\n",
       "    </tr>\n",
       "    <tr>\n",
       "      <th>Id</th>\n",
       "      <th></th>\n",
       "      <th></th>\n",
       "      <th></th>\n",
       "      <th></th>\n",
       "      <th></th>\n",
       "      <th></th>\n",
       "      <th></th>\n",
       "      <th></th>\n",
       "      <th></th>\n",
       "      <th></th>\n",
       "      <th></th>\n",
       "      <th></th>\n",
       "      <th></th>\n",
       "      <th></th>\n",
       "      <th></th>\n",
       "      <th></th>\n",
       "      <th></th>\n",
       "      <th></th>\n",
       "      <th></th>\n",
       "      <th></th>\n",
       "      <th></th>\n",
       "    </tr>\n",
       "  </thead>\n",
       "  <tbody>\n",
       "    <tr>\n",
       "      <td>1</td>\n",
       "      <td>-0.367095</td>\n",
       "      <td>-0.959980</td>\n",
       "      <td>-1.597132</td>\n",
       "      <td>0.146639</td>\n",
       "      <td>-0.834074</td>\n",
       "      <td>-0.908681</td>\n",
       "      <td>0.271454</td>\n",
       "      <td>0.571653</td>\n",
       "      <td>0.281259</td>\n",
       "      <td>4.334805</td>\n",
       "      <td>...</td>\n",
       "      <td>-0.648354</td>\n",
       "      <td>0.425014</td>\n",
       "      <td>0.306185</td>\n",
       "      <td>-0.226413</td>\n",
       "      <td>0.757908</td>\n",
       "      <td>-0.122308</td>\n",
       "      <td>-3.938956</td>\n",
       "      <td>-0.053831</td>\n",
       "      <td>-0.234591</td>\n",
       "      <td>-0.133248</td>\n",
       "    </tr>\n",
       "    <tr>\n",
       "      <td>2</td>\n",
       "      <td>-0.381461</td>\n",
       "      <td>-0.914559</td>\n",
       "      <td>-1.715424</td>\n",
       "      <td>-0.072337</td>\n",
       "      <td>-0.932054</td>\n",
       "      <td>-0.999246</td>\n",
       "      <td>0.238732</td>\n",
       "      <td>0.703225</td>\n",
       "      <td>0.346627</td>\n",
       "      <td>4.285710</td>\n",
       "      <td>...</td>\n",
       "      <td>-0.728088</td>\n",
       "      <td>0.775562</td>\n",
       "      <td>0.355542</td>\n",
       "      <td>-0.222511</td>\n",
       "      <td>0.931351</td>\n",
       "      <td>0.067422</td>\n",
       "      <td>-4.282478</td>\n",
       "      <td>0.027594</td>\n",
       "      <td>-0.323075</td>\n",
       "      <td>0.072282</td>\n",
       "    </tr>\n",
       "  </tbody>\n",
       "</table>\n",
       "<p>2 rows × 83 columns</p>\n",
       "</div>"
      ],
      "text/plain": [
       "    Elevation    Aspect     Slope  Horizontal_Distance_To_Hydrology  \\\n",
       "Id                                                                    \n",
       "1   -0.367095 -0.959980 -1.597132                          0.146639   \n",
       "2   -0.381461 -0.914559 -1.715424                         -0.072337   \n",
       "\n",
       "    Vertical_Distance_To_Hydrology  Horizontal_Distance_To_Roadways  \\\n",
       "Id                                                                    \n",
       "1                        -0.834074                        -0.908681   \n",
       "2                        -0.932054                        -0.999246   \n",
       "\n",
       "    Hillshade_9am  Hillshade_Noon  Hillshade_3pm  \\\n",
       "Id                                                 \n",
       "1        0.271454        0.571653       0.281259   \n",
       "2        0.238732        0.703225       0.346627   \n",
       "\n",
       "    Horizontal_Distance_To_Fire_Points  ...  Elevation - Hillshade_3pm  \\\n",
       "Id                                      ...                              \n",
       "1                             4.334805  ...                  -0.648354   \n",
       "2                             4.285710  ...                  -0.728088   \n",
       "\n",
       "    Hillshade_Noon - Horizontal_Distance_To_Hydrology  \\\n",
       "Id                                                      \n",
       "1                                            0.425014   \n",
       "2                                            0.775562   \n",
       "\n",
       "    Elevation * Vertical_Distance_To_Hydrology  \\\n",
       "Id                                               \n",
       "1                                     0.306185   \n",
       "2                                     0.355542   \n",
       "\n",
       "    Hillshade_9am * Vertical_Distance_To_Hydrology  \\\n",
       "Id                                                   \n",
       "1                                        -0.226413   \n",
       "2                                        -0.222511   \n",
       "\n",
       "    Horizontal_Distance_To_Roadways * Vertical_Distance_To_Hydrology  \\\n",
       "Id                                                                     \n",
       "1                                            0.757908                  \n",
       "2                                            0.931351                  \n",
       "\n",
       "    Horizontal_Distance_To_Hydrology * Vertical_Distance_To_Hydrology  \\\n",
       "Id                                                                      \n",
       "1                                           -0.122308                   \n",
       "2                                            0.067422                   \n",
       "\n",
       "    Horizontal_Distance_To_Fire_Points * Horizontal_Distance_To_Roadways  \\\n",
       "Id                                                                         \n",
       "1                                           -3.938956                      \n",
       "2                                           -4.282478                      \n",
       "\n",
       "    Elevation * Horizontal_Distance_To_Hydrology  \\\n",
       "Id                                                 \n",
       "1                                      -0.053831   \n",
       "2                                       0.027594   \n",
       "\n",
       "    Hillshade_3pm * Vertical_Distance_To_Hydrology  \\\n",
       "Id                                                   \n",
       "1                                        -0.234591   \n",
       "2                                        -0.323075   \n",
       "\n",
       "    Horizontal_Distance_To_Hydrology * Horizontal_Distance_To_Roadways  \n",
       "Id                                                                      \n",
       "1                                           -0.133248                   \n",
       "2                                            0.072282                   \n",
       "\n",
       "[2 rows x 83 columns]"
      ]
     },
     "metadata": {},
     "output_type": "display_data"
    }
   ],
   "source": [
    "print('transform features of org:        {}'.format(len(features_dict['original'])))\n",
    "print('data_df_org:                      {}'.format(data_df_org.shape))\n",
    "print('feature_matrix_org:               {}'.format(feature_matrix_org.shape))\n",
    "print()\n",
    "print('transform features of normalized: {}'.format(len(features_dict['normalized'])))\n",
    "print('data_df_normalized:               {}'.format(data_df_normalized.shape))\n",
    "print('feature_matrix_normalized:        {}'.format(feature_matrix_normalized.shape))\n",
    "\n",
    "display(feature_matrix_org.head(2))\n",
    "display(feature_matrix_normalized.head(2))"
   ]
  },
  {
   "cell_type": "markdown",
   "metadata": {},
   "source": [
    "## Rename columns in the normalized dataset"
   ]
  },
  {
   "cell_type": "code",
   "execution_count": 14,
   "metadata": {},
   "outputs": [],
   "source": [
    "col_new = {col: 'NORM({})'.format(col) for col in feature_matrix_normalized.columns}\n",
    "\n",
    "feature_matrix_normalized = feature_matrix_normalized.rename(columns=col_new)"
   ]
  },
  {
   "cell_type": "markdown",
   "metadata": {},
   "source": [
    "## Combine org/normalized feature_matrix"
   ]
  },
  {
   "cell_type": "code",
   "execution_count": 15,
   "metadata": {},
   "outputs": [],
   "source": [
    "feature_matrix_all = pd.concat([feature_matrix_org, feature_matrix_normalized], axis='columns')"
   ]
  },
  {
   "cell_type": "code",
   "execution_count": 16,
   "metadata": {},
   "outputs": [
    {
     "name": "stdout",
     "output_type": "stream",
     "text": [
      "feature_matrix_org:        (581012, 40)\n",
      "feature_matrix_normalized: (581012, 83)\n",
      "feature_matrix_all:        (581012, 123)\n"
     ]
    }
   ],
   "source": [
    "print('feature_matrix_org:        {}'.format(feature_matrix_org.shape))\n",
    "print('feature_matrix_normalized: {}'.format(feature_matrix_normalized.shape))\n",
    "print('feature_matrix_all:        {}'.format(feature_matrix_all.shape))"
   ]
  },
  {
   "cell_type": "markdown",
   "metadata": {},
   "source": [
    "## Split Train/Test"
   ]
  },
  {
   "cell_type": "code",
   "execution_count": 17,
   "metadata": {},
   "outputs": [],
   "source": [
    "# train dataset\n",
    "indice = train_df_org['Id']\n",
    "X_train = feature_matrix_all.loc[indice]\n",
    "y_train = train_df_org['Cover_Type'].astype('category')\n",
    "\n",
    "# test dataset\n",
    "indice = test_df_org['Id']\n",
    "X_test = feature_matrix_all.loc[indice]"
   ]
  },
  {
   "cell_type": "markdown",
   "metadata": {},
   "source": [
    "# Stacking using EnsembleVoteClassifiter and ColumnSelector"
   ]
  },
  {
   "cell_type": "code",
   "execution_count": 18,
   "metadata": {},
   "outputs": [
    {
     "name": "stdout",
     "output_type": "stream",
     "text": [
      "size of org:                40\n",
      "size of normalized columns: 83\n"
     ]
    }
   ],
   "source": [
    "col_num_org = tuple(i for i, col in enumerate(feature_matrix_all) if 'NORM(' not in col)\n",
    "col_num_normalized = tuple(i for i, col in enumerate(feature_matrix_all) if 'NORM(' in col)\n",
    "\n",
    "print('size of org:                {}'.format(len(col_num_org)))\n",
    "print('size of normalized columns: {}'.format(len(col_num_normalized)))"
   ]
  },
  {
   "cell_type": "code",
   "execution_count": 19,
   "metadata": {},
   "outputs": [],
   "source": [
    "type_ratio = np.array([0.37062, 0.49657, 0.05947, 0.00106, 0.01287, 0.02698, 0.03238])\n",
    "# class_weight = {i: v for i, v in enumerate(type_ratio, start=1)}\n",
    "class_weight = {i: v for i, v in enumerate(type_ratio)}\n",
    "class_weight_start_1 = {i: v for i, v in enumerate(type_ratio, start=1)}\n",
    "\n",
    "\n",
    "class_weight_lgbm = {i: v for i, v in enumerate(type_ratio)}"
   ]
  },
  {
   "cell_type": "code",
   "execution_count": 20,
   "metadata": {},
   "outputs": [
    {
     "name": "stdout",
     "output_type": "stream",
     "text": [
      "{0: 0.37062, 1: 0.49657, 2: 0.05947, 3: 0.00106, 4: 0.01287, 5: 0.02698, 6: 0.03238}\n",
      "{0: 0.37062, 1: 0.49657, 2: 0.05947, 3: 0.00106, 4: 0.01287, 5: 0.02698, 6: 0.03238}\n",
      "{1: 0.37062, 2: 0.49657, 3: 0.05947, 4: 0.00106, 5: 0.01287, 6: 0.02698, 7: 0.03238}\n"
     ]
    }
   ],
   "source": [
    "print(class_weight)\n",
    "print(class_weight_lgbm)\n",
    "print(class_weight_start_1)"
   ]
  },
  {
   "cell_type": "code",
   "execution_count": 21,
   "metadata": {},
   "outputs": [],
   "source": [
    "from sklearn.pipeline import make_pipeline\n",
    "from mlxtend.feature_selection import ColumnSelector\n",
    "from mlxtend.classifier import StackingClassifier, EnsembleVoteClassifier\n",
    "from sklearn.ensemble import RandomForestClassifier, ExtraTreesClassifier\n",
    "from sklearn.linear_model import LogisticRegression\n",
    "from sklearn.svm import SVC\n",
    "import lightgbm as lgb\n",
    "\n",
    "seed = 42\n",
    "\n",
    "pipelines_org = []\n",
    "\n",
    "pipelines_org = pipelines_org + \\\n",
    "                [make_pipeline(ColumnSelector(col_num_org),\n",
    "                              RandomForestClassifier(n_jobs=-1,\n",
    "                                                   n_estimators=300,\n",
    "#                                                    max_features=7,\n",
    "#                                                    max_leaf_nodes=220,\n",
    "                                                    class_weight=class_weight,\n",
    "                                                   random_state=seed\n",
    "                                                    )\n",
    "                                )]\n",
    "\n",
    "pipelines_org = pipelines_org + \\\n",
    "                [make_pipeline(ColumnSelector(col_num_org),\n",
    "                              ExtraTreesClassifier(n_estimators=100, \n",
    "                                                   class_weight=class_weight, \n",
    "                                                   random_state=seed)\n",
    "                                )]\n",
    "\n",
    "pipelines_org = pipelines_org + \\\n",
    "                [make_pipeline(ColumnSelector(col_num_org),\n",
    "                              lgb.LGBMClassifier(n_estimators=300,\n",
    "                                                             num_class=8,\n",
    "                                                            num_leaves=32,\n",
    "                                                             class_weight=class_weight_lgbm,\n",
    "                                                            random_state=seed,)\n",
    "                                )]\n",
    "\n",
    "pipelines_org = pipelines_org + \\\n",
    "                [make_pipeline(ColumnSelector(col_num_org),\n",
    "                              LogisticRegression(n_jobs=-1, multi_class=\"multinomial\", C=10**9, \n",
    "                                                 solver=\"saga\", class_weight=class_weight)\n",
    "                                )]"
   ]
  },
  {
   "cell_type": "code",
   "execution_count": 22,
   "metadata": {},
   "outputs": [],
   "source": [
    "pipeline_normalized = []\n",
    "\n",
    "pipeline_normalized = pipeline_normalized +\\\n",
    "                        [make_pipeline(ColumnSelector(col_num_normalized),\n",
    "                                       RandomForestClassifier(n_jobs=-1,\n",
    "                                                   n_estimators=300,\n",
    "#                                                    max_features=7,\n",
    "#                                                    max_leaf_nodes=220,\n",
    "                                                    class_weight=class_weight_lgbm,\n",
    "                                                   random_state=seed\n",
    "                                                    )\n",
    "                                      )]\n",
    "\n",
    "pipeline_normalized = pipeline_normalized +\\\n",
    "                        [make_pipeline(ColumnSelector(col_num_normalized),\n",
    "                                       ExtraTreesClassifier(n_estimators=100, \n",
    "                                                            class_weight=class_weight_lgbm, \n",
    "                                                            random_state=seed)\n",
    "                                      )]\n",
    "\n",
    "pipeline_normalized = pipeline_normalized +\\\n",
    "                        [make_pipeline(ColumnSelector(col_num_normalized),\n",
    "                                       lgb.LGBMClassifier(n_estimators=300,\n",
    "                                                            num_class=8,\n",
    "                                                            num_leaves=32,\n",
    "                                                            class_weight=class_weight_lgbm,\n",
    "                                                            random_state=seed,)\n",
    "                                      )]\n",
    "\n",
    "\n",
    "pipeline_normalized = pipeline_normalized +\\\n",
    "                        [make_pipeline(ColumnSelector(col_num_normalized),\n",
    "                                       LogisticRegression(n_jobs=-1, multi_class=\"multinomial\", C=10**9, \n",
    "                                                          solver=\"saga\", \n",
    "                                                          class_weight=class_weight_lgbm,)\n",
    "                                      )]\n",
    "\n",
    "\n",
    "pipeline_normalized = pipeline_normalized +\\\n",
    "                        [make_pipeline(ColumnSelector(col_num_normalized),\n",
    "                                       SVC(C=10, gamma=0.1, probability=True, \n",
    "                                           class_weight=class_weight_lgbm,\n",
    "                                          ),\n",
    "                                      )]\n",
    "\n"
   ]
  },
  {
   "cell_type": "code",
   "execution_count": 23,
   "metadata": {},
   "outputs": [
    {
     "name": "stdout",
     "output_type": "stream",
     "text": [
      "num of models in org:        4\n",
      "num of models in normalized: 5\n"
     ]
    }
   ],
   "source": [
    "print('num of models in org:        {}'.format(len(pipelines_org)))\n",
    "print('num of models in normalized: {}'.format(len(pipeline_normalized)))"
   ]
  },
  {
   "cell_type": "markdown",
   "metadata": {},
   "source": [
    "## Start training"
   ]
  },
  {
   "cell_type": "code",
   "execution_count": 24,
   "metadata": {},
   "outputs": [],
   "source": [
    "# %%time\n",
    "# sclf = StackingClassifier(classifiers=pipelines_org+pipeline_normalized,\n",
    "#                          meta_classifier=LogisticRegression(),\n",
    "#                          verbose=1)\n",
    "\n",
    "# sclf.fit(X_train, y_train)\n",
    "\n"
   ]
  },
  {
   "cell_type": "code",
   "execution_count": 25,
   "metadata": {},
   "outputs": [],
   "source": [
    "# %%time\n",
    "\n",
    "# prediction = sclf.predict(X_test)\n",
    "\n",
    "# score = accuracy_score(prediction, y_test)\n",
    "\n",
    "# print('score: {}'.format(score))"
   ]
  },
  {
   "cell_type": "code",
   "execution_count": 26,
   "metadata": {},
   "outputs": [],
   "source": [
    "def fit_predict(model, X_train=X_train, y_train=y_train, \n",
    "                        X_test=X_test, y_test=y_test):\n",
    "    \n",
    "    y_train_minus_1 = y_train.to_numpy() - 1\n",
    "    y_test_minus_1 = y_test.to_numpy() - 1\n",
    "    \n",
    "    model.fit(X_train, y_train_minus_1)\n",
    "\n",
    "    predictions = model.predict(X_test)\n",
    "    score = accuracy_score(predictions, y_test_minus_1)\n",
    "    \n",
    "    return score"
   ]
  },
  {
   "cell_type": "markdown",
   "metadata": {},
   "source": [
    "### 1-Fold Stacking"
   ]
  },
  {
   "cell_type": "code",
   "execution_count": 27,
   "metadata": {},
   "outputs": [],
   "source": [
    "# %%time\n",
    "\n",
    "# eclf = EnsembleVoteClassifier(clfs=pipelines_org+pipeline_normalized,\n",
    "#                              voting='soft',\n",
    "#                              verbose=1)\n",
    "\n",
    "\n",
    "# score = fit_predict(eclf)\n",
    "\n",
    "# print('score={}'.format(score))"
   ]
  },
  {
   "cell_type": "markdown",
   "metadata": {},
   "source": [
    "# CV Stacking"
   ]
  },
  {
   "cell_type": "code",
   "execution_count": 28,
   "metadata": {},
   "outputs": [
    {
     "name": "stdout",
     "output_type": "stream",
     "text": [
      "Fitting 9 classifiers...\n",
      "Fitting classifier1: pipeline (1/9)\n"
     ]
    },
    {
     "name": "stderr",
     "output_type": "stream",
     "text": [
      "[Parallel(n_jobs=-1)]: Using backend LokyBackend with 4 concurrent workers.\n",
      "[Parallel(n_jobs=-1)]: Done   3 out of   3 | elapsed:   19.9s finished\n",
      "[Parallel(n_jobs=-1)]: Using backend LokyBackend with 4 concurrent workers.\n"
     ]
    },
    {
     "name": "stdout",
     "output_type": "stream",
     "text": [
      "Fitting classifier2: pipeline (2/9)\n"
     ]
    },
    {
     "name": "stderr",
     "output_type": "stream",
     "text": [
      "[Parallel(n_jobs=-1)]: Done   3 out of   3 | elapsed:    2.9s finished\n",
      "[Parallel(n_jobs=-1)]: Using backend LokyBackend with 4 concurrent workers.\n"
     ]
    },
    {
     "name": "stdout",
     "output_type": "stream",
     "text": [
      "Fitting classifier3: pipeline (3/9)\n",
      "Fitting classifier4: pipeline (4/9)\n"
     ]
    },
    {
     "name": "stderr",
     "output_type": "stream",
     "text": [
      "[Parallel(n_jobs=-1)]: Done   3 out of   3 | elapsed: 48.1min finished\n",
      "[Parallel(n_jobs=-1)]: Using backend LokyBackend with 4 concurrent workers.\n",
      "[Parallel(n_jobs=-1)]: Done   3 out of   3 | elapsed:    3.4s finished\n",
      "[Parallel(n_jobs=-1)]: Using backend LokyBackend with 4 concurrent workers.\n"
     ]
    },
    {
     "name": "stdout",
     "output_type": "stream",
     "text": [
      "Fitting classifier5: pipeline (5/9)\n",
      "Fitting classifier6: pipeline (6/9)\n"
     ]
    },
    {
     "name": "stderr",
     "output_type": "stream",
     "text": [
      "[Parallel(n_jobs=-1)]: Done   3 out of   3 | elapsed:   16.6s finished\n",
      "[Parallel(n_jobs=-1)]: Using backend LokyBackend with 4 concurrent workers.\n",
      "[Parallel(n_jobs=-1)]: Done   3 out of   3 | elapsed:    3.9s finished\n",
      "[Parallel(n_jobs=-1)]: Using backend LokyBackend with 4 concurrent workers.\n"
     ]
    },
    {
     "name": "stdout",
     "output_type": "stream",
     "text": [
      "Fitting classifier7: pipeline (7/9)\n",
      "Fitting classifier8: pipeline (8/9)\n"
     ]
    },
    {
     "name": "stderr",
     "output_type": "stream",
     "text": [
      "[Parallel(n_jobs=-1)]: Done   3 out of   3 | elapsed: 57.9min finished\n",
      "[Parallel(n_jobs=-1)]: Using backend LokyBackend with 4 concurrent workers.\n",
      "[Parallel(n_jobs=-1)]: Done   3 out of   3 | elapsed:    6.3s finished\n",
      "[Parallel(n_jobs=-1)]: Using backend LokyBackend with 4 concurrent workers.\n"
     ]
    },
    {
     "name": "stdout",
     "output_type": "stream",
     "text": [
      "Fitting classifier9: pipeline (9/9)\n"
     ]
    },
    {
     "name": "stderr",
     "output_type": "stream",
     "text": [
      "[Parallel(n_jobs=-1)]: Done   3 out of   3 | elapsed:  2.1min finished\n",
      "/opt/conda/lib/python3.6/site-packages/sklearn/linear_model/sag.py:337: ConvergenceWarning: The max_iter was reached which means the coef_ did not converge\n",
      "  \"the coef_ did not converge\", ConvergenceWarning)\n",
      "/opt/conda/lib/python3.6/site-packages/sklearn/linear_model/sag.py:337: ConvergenceWarning: The max_iter was reached which means the coef_ did not converge\n",
      "  \"the coef_ did not converge\", ConvergenceWarning)\n"
     ]
    },
    {
     "name": "stdout",
     "output_type": "stream",
     "text": [
      "score=0.8221816176938356\n"
     ]
    }
   ],
   "source": [
    "from mlxtend.classifier import StackingCVClassifier\n",
    "\n",
    "meta_classifier = lgb.LGBMClassifier(n_estimators=400,\n",
    "                                 num_leaves=100,\n",
    "                                 verbosity=0)\n",
    "\n",
    "sclf = StackingCVClassifier(classifiers=(pipelines_org+pipeline_normalized),\n",
    "                           meta_classifier=meta_classifier,\n",
    "                           cv=3,\n",
    "                           use_probas=True,\n",
    "                           use_features_in_secondary=True,\n",
    "                           verbose=1,\n",
    "                           random_state=seed,\n",
    "                           n_jobs=-1,)\n",
    "\n",
    "\n",
    "score = fit_predict(sclf)\n",
    "\n",
    "print('score={}'.format(score))"
   ]
  },
  {
   "cell_type": "code",
   "execution_count": 29,
   "metadata": {},
   "outputs": [],
   "source": [
    "# %%time\n",
    "\n",
    "# predictions = sclf.predict(X_test)\n",
    "# score = accuracy_score(predictions, y_test)\n",
    "\n",
    "# print(score)"
   ]
  }
 ],
 "metadata": {
  "kernelspec": {
   "display_name": "Python 3",
   "language": "python",
   "name": "python3"
  },
  "language_info": {
   "codemirror_mode": {
    "name": "ipython",
    "version": 3
   },
   "file_extension": ".py",
   "mimetype": "text/x-python",
   "name": "python",
   "nbconvert_exporter": "python",
   "pygments_lexer": "ipython3",
   "version": "3.6.6"
  }
 },
 "nbformat": 4,
 "nbformat_minor": 1
}
